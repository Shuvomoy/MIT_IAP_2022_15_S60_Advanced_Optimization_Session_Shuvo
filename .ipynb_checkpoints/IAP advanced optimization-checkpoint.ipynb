{
 "cells": [
  {
   "cell_type": "markdown",
   "id": "a69f8a23-a1da-4f23-b284-330aa234902d",
   "metadata": {},
   "source": [
    "# IAP 2022: Advanced Optimization Session\n",
    "**Shuvomoy Das Gupta**"
   ]
  },
  {
   "cell_type": "markdown",
   "id": "22a6ad9a-68ca-4616-b7ec-00c85583ff92",
   "metadata": {},
   "source": [
    "## Topics\n",
    "\n",
    "- Modeling an optimization problem: What type of optimization models are practically tractable?\n",
    "\n",
    "- (Mixed) Integer Linear Programs: basic\n",
    "\n",
    "- (Mixed) Integer Linear Programs: exploiting structure to speed things up\n",
    "\n",
    "- Nonlinear optimization problems: convex and beyond"
   ]
  },
  {
   "cell_type": "markdown",
   "id": "677bac1a-803e-41a1-8ec2-deabd3c6d1b6",
   "metadata": {},
   "source": [
    "## Modeling an optimization problems\n",
    "\n",
    "At present the following types of problems are *practically tractable*. Whenever we are modeling an optmization problem, we should try to ensure that our model is one of the following:\n",
    "\n",
    "1. Linear programs (LP)\n",
    "\n",
    "2. Quadratic convex programs (QCP)\n",
    "\n",
    "3. Second order cone programs (SOCP)\n",
    "\n",
    "4. Semidefinite programs (SDP)\n",
    "\n",
    "5. Mixed-integer linear programs (MILP)\n",
    "   \n",
    "$$\n",
    "\\begin{array}{ll}\n",
    "\\underset{x\\in\\mathbf{R}^{d}}{\\mbox{minimize}} & c^{\\top}x\\\\\n",
    "\\mbox{subject to} & Ax=b,\\\\\n",
    " & Cx\\geq d.\n",
    "\\end{array}\n",
    "$$\n",
    "\n",
    "2. Quadratic convex programs (QCP)\n",
    "\n",
    "$$\n",
    "\\begin{array}{ll}\n",
    "\\underset{x\\in\\mathbf{R}^{d}}{\\mbox{minimize}} & c^{\\top}x+x^{\\top}\\underbrace{Q_{0}}_{\\succeq0}x\\\\\n",
    "\\mbox{subject to} & Ax=b,\\\\\n",
    " & x^{\\top}\\underbrace{Q_{i}}_{\\succeq0}x+q_{i}^{\\top}x+r_{i}\\leq0,\\quad i=1,\\ldots,p.\n",
    "\\end{array}\n",
    "$$\n",
    "\n",
    "3. Second order cone programs (SOCP)\n",
    "\n",
    "4. Semidefinite programs (SDP)\n",
    "\n",
    "5. Mixed-integer linear programs (MILP)"
   ]
  },
  {
   "cell_type": "markdown",
   "id": "5838ec37-8bb5-427f-9fbc-7abed1352b95",
   "metadata": {},
   "source": [
    "## Some nice resources for just modeling optimization problems\n",
    "\n",
    "* Model building in mathematical programming by H Williams ([Link](https://www.amazon.com/Model-Building-Mathematical-Programming-Williams/dp/1118443330))\n",
    "  * A very practical book for modeling LP and MILP"
   ]
  },
  {
   "cell_type": "markdown",
   "id": "08393f68-3060-4906-9724-58cb04ced0c2",
   "metadata": {},
   "source": [
    "\n",
    "* Optimization models by G Calafiore and L El Ghaoui ([Link](https://www.amazon.com/Optimization-Models-Giuseppe-C-Calafiore/dp/1107050871))\n",
    "  * Good book for modeling convex optimization problems, especially Chapter 9, 10, 11"
   ]
  },
  {
   "cell_type": "markdown",
   "id": "be24f2a6-05a6-4da1-b645-0a6cea2afe39",
   "metadata": {},
   "source": [
    "* Applications of optimization with Xpress-MP by C Guéret, C Prins, and M Sevaux ([Link](https://www2.isye.gatech.edu/~sahmed/isye3133b/XpressBook.pdf))\n",
    "  * Excellent for modeling integer optimization models, especially Chapter 3, with lot of shortcuts and hacks\n"
   ]
  },
  {
   "cell_type": "code",
   "execution_count": null,
   "id": "a7f7b3c6-cd7a-4a6f-a12f-906e650144ac",
   "metadata": {},
   "outputs": [],
   "source": []
  }
 ],
 "metadata": {
  "kernelspec": {
   "display_name": "Julia 1.6.4",
   "language": "julia",
   "name": "julia-1.6"
  },
  "language_info": {
   "file_extension": ".jl",
   "mimetype": "application/julia",
   "name": "julia",
   "version": "1.6.4"
  }
 },
 "nbformat": 4,
 "nbformat_minor": 5
}

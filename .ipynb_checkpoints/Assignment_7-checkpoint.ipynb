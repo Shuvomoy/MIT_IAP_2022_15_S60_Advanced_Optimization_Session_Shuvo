{
 "cells": [
  {
   "cell_type": "markdown",
   "metadata": {},
   "source": [
    "### Solving the same problem using JuMP\n",
    "\n",
    "To model the same problem in `JuMP`, we need to convert it into a traditional SDP. To that goal, write \n",
    "\n",
    "\n",
    "\\begin{align*}\n",
    " & \\left(\\begin{array}{ll}\n",
    "\\underset{X}{\\mbox{minimize}} & \\|X\\|_{\\star}\\\\\n",
    "\\mbox{subject to} & X_{i,j}=Y_{i,j},\\quad(i,j)\\in\\textrm{observed pixels of }Y.\n",
    "\\end{array}\\right)\\\\\n",
    "= & \\left(\\begin{array}{ll}\n",
    "\\underset{X,t}{\\mbox{minimize}} & t\\\\\n",
    "\\mbox{subject to} & X_{i,j}=Y_{i,j},\\quad(i,j)\\in\\textrm{observed pixels of }Y,\\\\\n",
    " & \\|X\\|_{\\star}\\leq t.\n",
    "\\end{array}\\right)\n",
    "\\end{align*}\n",
    "\n",
    "\n",
    "Use the result [Lemma 1 Fazel et. al. (2001)]  ([paper here](https://web.stanford.edu/~boyd/papers/pdf/rank_min_heur_sys_approx.pdf)) we have: \n",
    "$$\n",
    "\\left(\\|X\\|_{\\star}\\leq t\\right)\\Leftrightarrow\\begin{bmatrix}U & X\\\\\n",
    "X^{\\top} & V\n",
    "\\end{bmatrix}\\succeq0,\\mathbf{tr}(U)+\\mathbf{tr}(V)\\leq2t.\n",
    "$$\n",
    "\n",
    "So, in `JuMP`, we will solve:\n",
    "$$\n",
    "\\left(\\begin{array}{ll}\n",
    "\\underset{X,t,U,V}{\\mbox{minimize}} & t\\\\\n",
    "\\mbox{subject to} & X_{i,j}=Y_{i,j},\\quad(i,j)\\in\\textrm{observed pixels of }Y,\\\\\n",
    " & \\begin{bmatrix}U & X\\\\\n",
    "X^{\\top} & V\n",
    "\\end{bmatrix}\\succeq0,\\\\\n",
    " & \\mathbf{tr}(U)+\\mathbf{tr}(V)\\leq2t.\n",
    "\\end{array}\\right)\n",
    "$$"
   ]
  },
  {
   "cell_type": "code",
   "execution_count": 29,
   "metadata": {},
   "outputs": [
    {
     "data": {
      "image/png": "[encoded data removed]",
      "text/plain": [
       "128×128 Array{Gray{N0f8},2} with eltype Gray{N0f8}:\n",
       " Gray{N0f8}(0.0)    Gray{N0f8}(0.0)    …  Gray{N0f8}(0.627)\n",
       " Gray{N0f8}(0.627)  Gray{N0f8}(0.624)     Gray{N0f8}(0.388)\n",
       " Gray{N0f8}(0.612)  Gray{N0f8}(0.612)     Gray{N0f8}(0.0)\n",
       " Gray{N0f8}(0.0)    Gray{N0f8}(0.0)       Gray{N0f8}(0.192)\n",
       " Gray{N0f8}(0.612)  Gray{N0f8}(0.0)       Gray{N0f8}(0.0)\n",
       " Gray{N0f8}(0.0)    Gray{N0f8}(0.0)    …  Gray{N0f8}(0.2)\n",
       " Gray{N0f8}(0.608)  Gray{N0f8}(0.0)       Gray{N0f8}(0.0)\n",
       " Gray{N0f8}(0.0)    Gray{N0f8}(0.0)       Gray{N0f8}(0.216)\n",
       " Gray{N0f8}(0.62)   Gray{N0f8}(0.62)      Gray{N0f8}(0.208)\n",
       " Gray{N0f8}(0.0)    Gray{N0f8}(0.0)       Gray{N0f8}(0.188)\n",
       " Gray{N0f8}(0.635)  Gray{N0f8}(0.0)    …  Gray{N0f8}(0.0)\n",
       " Gray{N0f8}(0.631)  Gray{N0f8}(0.0)       Gray{N0f8}(0.0)\n",
       " Gray{N0f8}(0.0)    Gray{N0f8}(0.627)     Gray{N0f8}(0.184)\n",
       " ⋮                                     ⋱  \n",
       " Gray{N0f8}(0.0)    Gray{N0f8}(0.129)     Gray{N0f8}(0.0)\n",
       " Gray{N0f8}(0.149)  Gray{N0f8}(0.129)     Gray{N0f8}(0.0)\n",
       " Gray{N0f8}(0.216)  Gray{N0f8}(0.0)       Gray{N0f8}(0.208)\n",
       " Gray{N0f8}(0.345)  Gray{N0f8}(0.341)     Gray{N0f8}(0.231)\n",
       " Gray{N0f8}(0.0)    Gray{N0f8}(0.0)    …  Gray{N0f8}(0.259)\n",
       " Gray{N0f8}(0.298)  Gray{N0f8}(0.416)     Gray{N0f8}(0.259)\n",
       " Gray{N0f8}(0.0)    Gray{N0f8}(0.369)     Gray{N0f8}(0.235)\n",
       " Gray{N0f8}(0.0)    Gray{N0f8}(0.0)       Gray{N0f8}(0.208)\n",
       " Gray{N0f8}(0.22)   Gray{N0f8}(0.0)       Gray{N0f8}(0.2)\n",
       " Gray{N0f8}(0.0)    Gray{N0f8}(0.22)   …  Gray{N0f8}(0.0)\n",
       " Gray{N0f8}(0.196)  Gray{N0f8}(0.208)     Gray{N0f8}(0.345)\n",
       " Gray{N0f8}(0.192)  Gray{N0f8}(0.0)       Gray{N0f8}(0.0)"
      ]
     },
     "execution_count": 29,
     "metadata": {},
     "output_type": "execute_result"
    }
   ],
   "source": [
    "using Images, JuMP, Mosek, MosekTools, LinearAlgebra\n",
    "lenna = load(\"img//lena128missing.png\")"
   ]
  },
  {
   "cell_type": "code",
   "execution_count": 30,
   "metadata": {},
   "outputs": [
    {
     "data": {
      "text/plain": [
       "128×128 Matrix{Float64}:\n",
       " 0.0       0.0       0.635294  0.0       …  0.0       0.0       0.627451\n",
       " 0.627451  0.623529  0.0       0.611765     0.0       0.0       0.388235\n",
       " 0.611765  0.611765  0.0       0.0          0.403922  0.219608  0.0\n",
       " 0.0       0.0       0.611765  0.0          0.223529  0.176471  0.192157\n",
       " 0.611765  0.0       0.615686  0.615686     0.0       0.0       0.0\n",
       " 0.0       0.0       0.0       0.619608  …  0.0       0.0       0.2\n",
       " 0.607843  0.0       0.623529  0.0          0.176471  0.192157  0.0\n",
       " 0.0       0.0       0.623529  0.0          0.0       0.0       0.215686\n",
       " 0.619608  0.619608  0.0       0.0          0.2       0.0       0.207843\n",
       " 0.0       0.0       0.635294  0.635294     0.2       0.192157  0.188235\n",
       " 0.635294  0.0       0.0       0.0       …  0.192157  0.180392  0.0\n",
       " 0.631373  0.0       0.0       0.0          0.0       0.0       0.0\n",
       " 0.0       0.627451  0.635294  0.666667     0.172549  0.0       0.184314\n",
       " ⋮                                       ⋱  ⋮                   \n",
       " 0.0       0.129412  0.0       0.541176     0.0       0.286275  0.0\n",
       " 0.14902   0.129412  0.196078  0.537255     0.345098  0.0       0.0\n",
       " 0.215686  0.0       0.262745  0.0          0.301961  0.0       0.207843\n",
       " 0.345098  0.341176  0.356863  0.513725     0.0       0.0       0.231373\n",
       " 0.0       0.0       0.0       0.0       …  0.0       0.243137  0.258824\n",
       " 0.298039  0.415686  0.458824  0.0          0.0       0.0       0.258824\n",
       " 0.0       0.368627  0.4       0.0          0.0       0.0       0.235294\n",
       " 0.0       0.0       0.34902   0.0          0.0       0.239216  0.207843\n",
       " 0.219608  0.0       0.0       0.0          0.0       0.0       0.2\n",
       " 0.0       0.219608  0.235294  0.356863  …  0.0       0.0       0.0\n",
       " 0.196078  0.207843  0.211765  0.0          0.0       0.270588  0.345098\n",
       " 0.192157  0.0       0.196078  0.309804     0.266667  0.356863  0.0"
      ]
     },
     "execution_count": 30,
     "metadata": {},
     "output_type": "execute_result"
    }
   ],
   "source": [
    "# convert to real matrices\n",
    "Y = Float64.(lenna)"
   ]
  },
  {
   "cell_type": "code",
   "execution_count": 31,
   "metadata": {},
   "outputs": [
    {
     "data": {
      "text/plain": [
       "8128-element Vector{CartesianIndex{2}}:\n",
       " CartesianIndex(2, 1)\n",
       " CartesianIndex(3, 1)\n",
       " CartesianIndex(5, 1)\n",
       " CartesianIndex(7, 1)\n",
       " CartesianIndex(9, 1)\n",
       " CartesianIndex(11, 1)\n",
       " CartesianIndex(12, 1)\n",
       " CartesianIndex(17, 1)\n",
       " CartesianIndex(19, 1)\n",
       " CartesianIndex(20, 1)\n",
       " CartesianIndex(23, 1)\n",
       " CartesianIndex(25, 1)\n",
       " CartesianIndex(26, 1)\n",
       " ⋮\n",
       " CartesianIndex(113, 128)\n",
       " CartesianIndex(114, 128)\n",
       " CartesianIndex(115, 128)\n",
       " CartesianIndex(116, 128)\n",
       " CartesianIndex(119, 128)\n",
       " CartesianIndex(120, 128)\n",
       " CartesianIndex(121, 128)\n",
       " CartesianIndex(122, 128)\n",
       " CartesianIndex(123, 128)\n",
       " CartesianIndex(124, 128)\n",
       " CartesianIndex(125, 128)\n",
       " CartesianIndex(127, 128)"
      ]
     },
     "execution_count": 31,
     "metadata": {},
     "output_type": "execute_result"
    }
   ],
   "source": [
    "## Create the index set of observed entries\n",
    "observed_entries_Y = findall(x->x!=0.0, Y)"
   ]
  },
  {
   "cell_type": "code",
   "execution_count": 32,
   "metadata": {},
   "outputs": [
    {
     "data": {
      "text/plain": [
       "(128, 128)"
      ]
     },
     "execution_count": 32,
     "metadata": {},
     "output_type": "execute_result"
    }
   ],
   "source": [
    "N, _= size(Y)"
   ]
  },
  {
   "cell_type": "code",
   "execution_count": 33,
   "metadata": {},
   "outputs": [],
   "source": [
    "model_SDP_JuMP = Model(Mosek.Optimizer);"
   ]
  },
  {
   "cell_type": "code",
   "execution_count": 34,
   "metadata": {},
   "outputs": [],
   "source": [
    "@variable(model_SDP_JuMP, X2[1:N, 1:N]);"
   ]
  },
  {
   "cell_type": "code",
   "execution_count": 35,
   "metadata": {},
   "outputs": [],
   "source": [
    "@variable(model_SDP_JuMP, U[1:N, 1:N]);"
   ]
  },
  {
   "cell_type": "code",
   "execution_count": 36,
   "metadata": {},
   "outputs": [],
   "source": [
    "@variable(model_SDP_JuMP, V[1:N, 1:N]);"
   ]
  },
  {
   "cell_type": "code",
   "execution_count": 37,
   "metadata": {},
   "outputs": [],
   "source": [
    "@variable(model_SDP_JuMP, t);"
   ]
  },
  {
   "cell_type": "code",
   "execution_count": 38,
   "metadata": {},
   "outputs": [],
   "source": [
    "# observed entries should match\n",
    "for index_i_j in observed_entries_Y\n",
    "    i = index_i_j[1]\n",
    "    j = index_i_j[2]\n",
    "    @constraint(model_SDP_JuMP, X2[i,j] == Y[i,j])\n",
    "end"
   ]
  },
  {
   "cell_type": "code",
   "execution_count": 39,
   "metadata": {},
   "outputs": [],
   "source": [
    "# PSD constraint\n",
    "@constraint(model_SDP_JuMP, Symmetric([U X2; X2' V]) in PSDCone());"
   ]
  },
  {
   "cell_type": "code",
   "execution_count": 40,
   "metadata": {},
   "outputs": [],
   "source": [
    "# epigraph constraint\n",
    "@constraint(model_SDP_JuMP, tr(U)+tr(V) <= 2*t);"
   ]
  },
  {
   "cell_type": "code",
   "execution_count": 41,
   "metadata": {},
   "outputs": [],
   "source": [
    "@objective(model_SDP_JuMP, Min, t);"
   ]
  },
  {
   "cell_type": "code",
   "execution_count": 42,
   "metadata": {},
   "outputs": [
    {
     "name": "stdout",
     "output_type": "stream",
     "text": [
      "Problem\n",
      "  Name                   :                 \n",
      "  Objective sense        : min             \n",
      "  Type                   : CONIC (conic optimization problem)\n",
      "  Constraints            : 8129            \n",
      "  Cones                  : 0               \n",
      "  Scalar variables       : 16257           \n",
      "  Matrix variables       : 1               \n",
      "  Integer variables      : 0               \n",
      "\n",
      "Optimizer started.\n",
      "Presolve started.\n",
      "Linear dependency checker started.\n",
      "Linear dependency checker terminated.\n",
      "Eliminator started.\n",
      "Freed constraints in eliminator : 0\n",
      "Eliminator terminated.\n",
      "Eliminator started.\n",
      "Freed constraints in eliminator : 0\n",
      "Eliminator terminated.\n",
      "Eliminator - tries                  : 2                 time                   : 0.00            \n",
      "Lin. dep.  - tries                  : 1                 time                   : 0.00            \n",
      "Lin. dep.  - number                 : 0               \n",
      "Presolve terminated. Time: 0.01    \n",
      "Problem\n",
      "  Name                   :                 \n",
      "  Objective sense        : min             \n",
      "  Type                   : CONIC (conic optimization problem)\n",
      "  Constraints            : 8129            \n",
      "  Cones                  : 0               \n",
      "  Scalar variables       : 16257           \n",
      "  Matrix variables       : 1               \n",
      "  Integer variables      : 0               \n",
      "\n",
      "Optimizer  - threads                : 48              \n",
      "Optimizer  - solved problem         : the primal      \n",
      "Optimizer  - Constraints            : 8129\n",
      "Optimizer  - Cones                  : 1\n",
      "Optimizer  - Scalar variables       : 2                 conic                  : 2               \n",
      "Optimizer  - Semi-definite variables: 1                 scalarized             : 32896           \n",
      "Factor     - setup time             : 2.21              dense det. time        : 0.00            \n",
      "Factor     - ML order time          : 1.19              GP order time          : 0.00            \n",
      "Factor     - nonzeros before factor : 3.30e+07          after factor           : 3.30e+07        \n",
      "Factor     - dense dim.             : 0                 flops                  : 1.79e+11        \n",
      "ITE PFEAS    DFEAS    GFEAS    PRSTATUS   POBJ              DOBJ              MU       TIME  \n",
      "0   6.4e+01  1.0e+00  1.0e+00  0.00e+00   0.000000000e+00   0.000000000e+00   1.0e+00  2.23  \n",
      "1   2.1e+01  3.3e-01  5.0e-01  -9.99e-01  1.470310185e+02   1.484363063e+02   3.3e-01  4.19  \n",
      "2   1.7e+01  2.6e-01  3.0e-01  -4.85e-01  1.350828267e+02   1.356788512e+02   2.6e-01  5.75  \n",
      "3   2.7e+00  4.3e-02  8.6e-03  3.14e-01   1.541097696e+02   1.540464927e+02   4.3e-02  7.38  \n",
      "4   2.5e-01  3.8e-03  4.6e-04  1.14e+00   1.483267313e+02   1.483322905e+02   3.8e-03  9.19  \n",
      "5   3.2e-02  5.0e-04  2.2e-05  1.01e+00   1.481427694e+02   1.481435481e+02   5.0e-04  11.00 \n",
      "6   4.3e-03  6.7e-05  1.2e-06  1.00e+00   1.479864515e+02   1.479866107e+02   6.7e-05  12.75 \n",
      "7   1.1e-03  1.8e-05  1.6e-07  1.00e+00   1.479754287e+02   1.479754705e+02   1.8e-05  14.38 \n",
      "8   1.5e-05  2.3e-07  8.9e-11  1.00e+00   1.479711267e+02   1.479711263e+02   2.3e-07  16.42 \n",
      "9   4.8e-07  7.7e-09  3.5e-13  1.00e+00   1.479710840e+02   1.479710840e+02   7.6e-09  18.45 \n",
      "10  4.0e-08  2.7e-09  1.2e-14  1.00e+00   1.479710825e+02   1.479710825e+02   6.3e-10  20.27 \n",
      "11  3.1e-09  2.0e-08  1.8e-16  1.00e+00   1.479710823e+02   1.479710823e+02   4.8e-11  22.31 \n",
      "Optimizer terminated. Time: 22.31   \n",
      "\n"
     ]
    }
   ],
   "source": [
    "optimize!(model_SDP_JuMP) "
   ]
  },
  {
   "cell_type": "code",
   "execution_count": 43,
   "metadata": {},
   "outputs": [],
   "source": [
    "X_Lenna_JuMP = value.(X2);"
   ]
  },
  {
   "cell_type": "code",
   "execution_count": 44,
   "metadata": {},
   "outputs": [
    {
     "data": {
      "image/png": "[encoded data removed]",
      "text/plain": [
       "128×256 Array{Gray{Float64},2} with eltype Gray{Float64}:\n",
       " Gray{Float64}(0.0)       Gray{Float64}(0.0)       …  Gray{Float64}(0.627451)\n",
       " Gray{Float64}(0.627451)  Gray{Float64}(0.623529)     Gray{Float64}(0.388235)\n",
       " Gray{Float64}(0.611765)  Gray{Float64}(0.611765)     Gray{Float64}(0.337453)\n",
       " Gray{Float64}(0.0)       Gray{Float64}(0.0)          Gray{Float64}(0.192157)\n",
       " Gray{Float64}(0.611765)  Gray{Float64}(0.0)          Gray{Float64}(0.277459)\n",
       " Gray{Float64}(0.0)       Gray{Float64}(0.0)       …  Gray{Float64}(0.2)\n",
       " Gray{Float64}(0.607843)  Gray{Float64}(0.0)          Gray{Float64}(0.197013)\n",
       " Gray{Float64}(0.0)       Gray{Float64}(0.0)          Gray{Float64}(0.215686)\n",
       " Gray{Float64}(0.619608)  Gray{Float64}(0.619608)     Gray{Float64}(0.207843)\n",
       " Gray{Float64}(0.0)       Gray{Float64}(0.0)          Gray{Float64}(0.188235)\n",
       " Gray{Float64}(0.635294)  Gray{Float64}(0.0)       …  Gray{Float64}(0.206486)\n",
       " Gray{Float64}(0.631373)  Gray{Float64}(0.0)          Gray{Float64}(0.184314)\n",
       " Gray{Float64}(0.0)       Gray{Float64}(0.627451)     Gray{Float64}(0.184314)\n",
       " ⋮                                                 ⋱  ⋮\n",
       " Gray{Float64}(0.0)       Gray{Float64}(0.129412)     Gray{Float64}(0.241796)\n",
       " Gray{Float64}(0.14902)   Gray{Float64}(0.129412)     Gray{Float64}(0.265208)\n",
       " Gray{Float64}(0.215686)  Gray{Float64}(0.0)          Gray{Float64}(0.207843)\n",
       " Gray{Float64}(0.345098)  Gray{Float64}(0.341176)     Gray{Float64}(0.231373)\n",
       " Gray{Float64}(0.0)       Gray{Float64}(0.0)       …  Gray{Float64}(0.258824)\n",
       " Gray{Float64}(0.298039)  Gray{Float64}(0.415686)     Gray{Float64}(0.258824)\n",
       " Gray{Float64}(0.0)       Gray{Float64}(0.368627)     Gray{Float64}(0.235294)\n",
       " Gray{Float64}(0.0)       Gray{Float64}(0.0)          Gray{Float64}(0.207843)\n",
       " Gray{Float64}(0.219608)  Gray{Float64}(0.0)          Gray{Float64}(0.2)\n",
       " Gray{Float64}(0.0)       Gray{Float64}(0.219608)  …  Gray{Float64}(0.203565)\n",
       " Gray{Float64}(0.196078)  Gray{Float64}(0.207843)     Gray{Float64}(0.345098)\n",
       " Gray{Float64}(0.192157)  Gray{Float64}(0.0)          Gray{Float64}(0.304792)"
      ]
     },
     "execution_count": 44,
     "metadata": {},
     "output_type": "execute_result"
    }
   ],
   "source": [
    "[lenna colorview(Gray, X_Lenna_JuMP)]"
   ]
  },
  {
   "cell_type": "code",
   "execution_count": 45,
   "metadata": {},
   "outputs": [
    {
     "name": "stdout",
     "output_type": "stream",
     "text": [
      "Trace of the solution matrix is:59.553672784737\n"
     ]
    }
   ],
   "source": [
    "# trace of the solution matrix:\n",
    "println(\"Trace of the solution matrix is:\", tr(X_Lenna_JuMP))"
   ]
  },
  {
   "cell_type": "code",
   "execution_count": null,
   "metadata": {},
   "outputs": [],
   "source": []
  }
 ],
 "metadata": {
  "kernelspec": {
   "display_name": "Julia 1.6.1",
   "language": "julia",
   "name": "julia-1.6"
  },
  "language_info": {
   "file_extension": ".jl",
   "mimetype": "application/julia",
   "name": "julia",
   "version": "1.6.1"
  }
 },
 "nbformat": 4,
 "nbformat_minor": 4
}

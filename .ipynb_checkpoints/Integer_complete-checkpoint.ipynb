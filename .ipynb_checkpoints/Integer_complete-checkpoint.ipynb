{
 "cells": [
  {
   "cell_type": "markdown",
   "metadata": {},
   "source": [
    "# Integer Programming: Exploiting structure"
   ]
  },
  {
   "cell_type": "markdown",
   "metadata": {},
   "source": [
    "## The Travelling Salesman Problem\n",
    "The basic problem is that we are given a set of co-ordinates $(a_i, b_i)_{i=1}^n$ corresponding to a set of $n$ nodes in a graph, and we need to decide which $n$ of the $n^2$ arcs in the graph we will use to tour the graph, wherein we visit each node exactly once, at _minimum_ total cost. Let's formulate this as an integer program!\n",
    "\n",
    "Let the cities be indexed from 1 to N.\n",
    "Let $d_{ij}$ be the distance between city $i$ and city $j$.\n",
    "\n",
    "Decision variables: $x_{ij}=\\begin{cases} 1,\\quad \\text{if city $i$ and city $j$ are adjacent in the shortest tour}\\\\\n",
    "0,\\quad \\text{otherwise.}\\end{cases}$\n",
    "\n",
    "N.B. $x_{ij}$ and $x_{ji}$ are redundant ($x_{ij}=x_{ji}$), so we only define the variable $x_{ij}$ for $i < j$. Then we can formulate the following integer program.\n",
    "\n",
    "$$\n",
    "\\underset{x}{\\min}\\ \\sum_{i=1}^{N-1}\\sum_{j=i+1}^N d_{ij}x_{ij} \\\\\n",
    "\\text{s.t.}\\quad \n",
    "\\sum_{j=i+1}^N x_{ij} + \\sum_{j=1}^{i-1}x_{ji} = 2 \\quad\\forall i, 1\\le i \\le N \\\\\n",
    "x_{ij}\\in\\{0,1\\}\\quad\\forall i,j \\text{ s.t. } 1\\le i < j \\le N\n",
    "$$\n",
    "\n",
    "However, if we attempt to solve this problem, we will find that we get an infeasible solution, with multiple disjoint subtours. \n",
    "\n",
    "![alt text](img/tsp1.png)\n",
    "\n",
    "Yikes! Our formulation is missing something! What are some potential ways to fix it?\n",
    "\n",
    "One common way is **subtour elimination** constraints, to prevent the final solution from having any small cycles, i.e. cycles that do not include all the nodes.\n",
    "\n",
    "Given a subtour $S\\subset \\{1,\\ldots,N\\}$, a subtour elimination constraint looks like:\n",
    "$$\\sum_{i\\in S} \\left(\\sum_{j\\notin S, j > i}x_{ij}+\\sum_{j\\notin S, j < i}x_{ji}\\right) \\ge 2.$$\n",
    "\n",
    "As $N$ grows larger, the number of subtour elimination constraints grows exponentially. It is therefore impractical to add all of these constraints into the model.\n",
    "\n",
    "Instead, we generate these constraints lazily. Every time Gurobi has an incumbent solution, we find the shortest subtour in the solution, and add a lazy constraint eliminating this particular subtour."
   ]
  },
  {
   "cell_type": "markdown",
   "metadata": {},
   "source": [
    "### A TSP solver\n",
    "\n",
    "We begin by loading the required modules."
   ]
  },
  {
   "cell_type": "code",
   "execution_count": 24,
   "metadata": {},
   "outputs": [],
   "source": [
    "using JuMP, Gurobi, Test, LinearAlgebra, DelimitedFiles, Random"
   ]
  },
  {
   "cell_type": "markdown",
   "metadata": {},
   "source": [
    "Next, we define a function to extract a n+1 dimensional vector representing a tour from an n x n symmetric matrix representing a solution provided by a solver."
   ]
  },
  {
   "cell_type": "code",
   "execution_count": 25,
   "metadata": {},
   "outputs": [
    {
     "data": {
      "text/plain": [
       "extractTour (generic function with 1 method)"
      ]
     },
     "execution_count": 25,
     "metadata": {},
     "output_type": "execute_result"
    }
   ],
   "source": [
    "function extractTour(n, sol)\n",
    "    tour = [1]  # Start at city 1 always\n",
    "    cur_city = 1\n",
    "    while true\n",
    "        # Look for first arc out of current city\n",
    "        for j = 1:n\n",
    "            if sol[cur_city,j] >= 0.5-1e-6\n",
    "                # Found next city\n",
    "                push!(tour, j)\n",
    "                # Don't ever use this arc again\n",
    "                sol[cur_city, j] = 0.0\n",
    "                sol[j, cur_city] = 0.0\n",
    "                # Move to next city\n",
    "                cur_city = j\n",
    "                break\n",
    "            end\n",
    "        end\n",
    "        # If we have come back to 1, stop\n",
    "        if cur_city == 1\n",
    "            break\n",
    "        end\n",
    "    end  # end while\n",
    "    return tour\n",
    "end"
   ]
  },
  {
   "cell_type": "markdown",
   "metadata": {},
   "source": [
    "Next, we define a function which acts as a seperation oracle, which is a fancy way of saying that it either identifies a subtour which should be banned from the set of all possible solutions, or decides that the current solution is optimal."
   ]
  },
  {
   "cell_type": "code",
   "execution_count": 26,
   "metadata": {},
   "outputs": [
    {
     "data": {
      "text/plain": [
       "findSubtour (generic function with 1 method)"
      ]
     },
     "execution_count": 26,
     "metadata": {},
     "output_type": "execute_result"
    }
   ],
   "source": [
    "# Input:\n",
    "#  n        Number of cities\n",
    "#  sol      n-by-n 0-1 symmetric matrix representing solution\n",
    "# Outputs:\n",
    "#  subtour  n length vector of booleans, true iff in a particular subtour\n",
    "#  subtour_length   Number of cities in subtour (if n, no subtour found)\n",
    "function findSubtour(n, sol)\n",
    "    # Initialize to no subtour\n",
    "    subtour = fill(false,n)\n",
    "    #=\n",
    "    # Always start looking at city 1\n",
    "    cur_city = 1\n",
    "    =#\n",
    "    # Start looking at a random city: much faster because we explore different subtours\n",
    "    cur_city=rand(1:n)\n",
    "    subtour[cur_city] = true\n",
    "    subtour_length = 1\n",
    "    while true\n",
    "        # Find next node that we haven't yet visited\n",
    "        found_city = false\n",
    "        indices = shuffle(1:n)\n",
    "        for j = 1:n\n",
    "            if !subtour[indices[j]]\n",
    "                if sol[cur_city, indices[j]] >= 1 - 1e-6\n",
    "                    # Arc to unvisited city, follow it\n",
    "                    cur_city = indices[j]\n",
    "                    subtour[indices[j]] = true\n",
    "                    found_city = true\n",
    "                    subtour_length += 1\n",
    "                    break  # Move on to next city\n",
    "                end\n",
    "            end\n",
    "        end\n",
    "        if !found_city\n",
    "            # We are done\n",
    "            break\n",
    "        end\n",
    "    end\n",
    "    return subtour, subtour_length\n",
    "end"
   ]
  },
  {
   "cell_type": "markdown",
   "metadata": {},
   "source": [
    "Next, we define a function which solves TSP, given a matrix of city locations, using an optimization solver."
   ]
  },
  {
   "cell_type": "code",
   "execution_count": 33,
   "metadata": {},
   "outputs": [
    {
     "data": {
      "text/plain": [
       "solveTSP (generic function with 1 method)"
      ]
     },
     "execution_count": 33,
     "metadata": {},
     "output_type": "execute_result"
    }
   ],
   "source": [
    "# Inputs:\n",
    "#   cities  n-by-2 matrix of (x,y) city locations\n",
    "# Output:\n",
    "#   path    Vector with order to cities are visited in\n",
    "function solveTSP(cities; time_limit=30.0)\n",
    "\n",
    "    n = size(cities)[1]\n",
    "    # Calculate pairwise distance matrix\n",
    "    dist = zeros(n, n)\n",
    "    for i = 1:n\n",
    "        for j = i:n\n",
    "            d = norm(cities[i,1:2] - cities[j,1:2])\n",
    "            dist[i,j] = d\n",
    "            dist[j,i] = d\n",
    "        end\n",
    "    end\n",
    "\n",
    "    m = Model(Gurobi.Optimizer)\n",
    "    set_optimizer_attribute(m, \"TimeLimit\", time_limit)\n",
    "\n",
    "    # x[i,j] is 1 iff we travel between i and j, 0 otherwise. \n",
    "    # Although we define all n^2 variables, we will only use the (strict) upper triangle. \n",
    "    @variable(m, x[1:n,1:n], Bin)\n",
    "\n",
    "    # Minimize total length of tour\n",
    "    @objective(m, Min, dot(dist, x))\n",
    "\n",
    "    # Make x_ij and x_ji be the same thing (undirectional TSP)\n",
    "    @constraint(m, x.==x')\n",
    "    # Don't allow self-arcs, by ensuring diagonal is vector of 0s\n",
    "    @constraint(m, diag(x).==zeros(n))\n",
    "\n",
    "    # We must enter and leave every city once and only once\n",
    "    for i = 1:n\n",
    "        @constraint(m, sum(x[i,j] for j=1:n) == 2)\n",
    "    end\n",
    "\n",
    "    # Lazy constraint\n",
    "    lazy_called = false  \n",
    "    function subtour(cb)\n",
    "        lazy_called = true\n",
    "        # Find any set of cities in a subtour\n",
    "        x_val = callback_value.(Ref(cb), x) # In previous versions, you'd simply use getvalue(x)\n",
    "#         println(x_val)\n",
    "        subtour, subtour_length = findSubtour(n, x_val)\n",
    "\n",
    "        if subtour_length == n\n",
    "            # This \"subtour\" is actually all cities, so we are done with this node of the branch and bound tree\n",
    "            return\n",
    "        end\n",
    "\n",
    "        # Subtour found - add lazy constraint\n",
    "        arcs_from_subtour = zero(AffExpr)\n",
    "        for i = 1:n\n",
    "            if subtour[i]\n",
    "            # If this city isn't in subtour, skip it\n",
    "                for j = 1:n\n",
    "                    # Want to include all arcs from this city, which is in the subtour, \n",
    "                    # to all cities not in the subtour\n",
    "                    if (i !=j) && !(subtour[j])\n",
    "                        # j isn't in subtour\n",
    "                        arcs_from_subtour += x[i,j]\n",
    "                    end\n",
    "                end\n",
    "            end\n",
    "        end\n",
    "        # Add the subtour elimination constraint\n",
    "        con = @build_constraint(arcs_from_subtour >= 2)\n",
    "        # Submit built constraint to model via MOI\n",
    "        MOI.submit(m, MOI.LazyConstraint(cb), con)\n",
    "        # Here's how you'd do this in previous JuMP versions:\n",
    "        # @lazyconstraint(cb, arcs_from_subtour >= 2)\n",
    "    end \n",
    "\n",
    "    MOI.set(m, MOI.LazyConstraintCallback(), subtour)\n",
    "\n",
    "    \n",
    "    optimize!(m)\n",
    "\n",
    "    return extractTour(n, value.(x))\n",
    "end"
   ]
  },
  {
   "cell_type": "markdown",
   "metadata": {},
   "source": [
    "Next, we define a function to plot the solution"
   ]
  },
  {
   "cell_type": "code",
   "execution_count": 22,
   "metadata": {},
   "outputs": [
    {
     "data": {
      "text/plain": [
       "plot_solution (generic function with 2 methods)"
      ]
     },
     "execution_count": 22,
     "metadata": {},
     "output_type": "execute_result"
    }
   ],
   "source": [
    "plot_instance(pts) = plot(x = pts[1,:], y = pts[2,:], Geom.point, Guide.xlabel(nothing), Guide.ylabel(nothing))\n",
    "function plot_solution(pts, path, extras = [])\n",
    "\tptspath = pts[:,path]\n",
    "\tplot(x = ptspath[1,:], y = ptspath[2,:], Geom.point, Geom.path, Guide.xlabel(nothing), Guide.ylabel(nothing), extras...)\n",
    "end"
   ]
  },
  {
   "cell_type": "markdown",
   "metadata": {},
   "source": [
    "#### Toy Example\n",
    "Next, we solve a small 6 city example (which you might recognize from the diagram above) to verify correctness of our code."
   ]
  },
  {
   "cell_type": "code",
   "execution_count": 34,
   "metadata": {
    "scrolled": true
   },
   "outputs": [
    {
     "name": "stdout",
     "output_type": "stream",
     "text": [
      "Set parameter TokenServer to value \"flexlm\"\n",
      "Set parameter TimeLimit to value 30\n",
      "Set parameter TimeLimit to value 30\n",
      "Set parameter LazyConstraints to value 1\n",
      "Gurobi Optimizer version 9.5.0 build v9.5.0rc5 (linux64)\n",
      "Thread count: 48 physical cores, 96 logical processors, using up to 32 threads\n",
      "Optimize a model with 48 rows, 36 columns and 102 nonzeros\n",
      "Model fingerprint: 0x7b9aa57c\n",
      "Variable types: 0 continuous, 36 integer (36 binary)\n",
      "Coefficient statistics:\n",
      "  Matrix range     [1e+00, 1e+00]\n",
      "  Objective range  [1e+02, 5e+02]\n",
      "  Bounds range     [0e+00, 0e+00]\n",
      "  RHS range        [2e+00, 2e+00]\n",
      "Found heuristic solution: objective 4189.4701349\n",
      "Presolve removed 42 rows and 21 columns\n",
      "Presolve time: 0.00s\n",
      "Presolved: 6 rows, 15 columns, 30 nonzeros\n",
      "Variable types: 0 continuous, 15 integer (15 binary)\n",
      "\n",
      "Root relaxation: objective 1.694427e+03, 4 iterations, 0.00 seconds (0.00 work units)\n",
      "\n",
      "    Nodes    |    Current Node    |     Objective Bounds      |     Work\n",
      " Expl Unexpl |  Obj  Depth IntInf | Incumbent    BestBd   Gap | It/Node Time\n",
      "\n",
      "*    0     0               0    2494.4271910 2494.42719  0.00%     -    0s\n",
      "\n",
      "Cutting planes:\n",
      "  Lazy constraints: 1\n",
      "\n",
      "Explored 1 nodes (8 simplex iterations) in 0.04 seconds (0.00 work units)\n",
      "Thread count was 32 (of 96 available processors)\n",
      "\n",
      "Solution count 2: 2494.43 4189.47 \n",
      "\n",
      "Optimal solution found (tolerance 1.00e-04)\n",
      "Best objective 2.494427191000e+03, best bound 2.494427191000e+03, gap 0.0000%\n",
      "\n",
      "User-callback calls 117, time in user-callback 0.04 sec\n"
     ]
    },
    {
     "data": {
      "text/plain": [
       "7-element Vector{Int64}:\n",
       " 1\n",
       " 2\n",
       " 4\n",
       " 6\n",
       " 5\n",
       " 3\n",
       " 1"
      ]
     },
     "execution_count": 34,
     "metadata": {},
     "output_type": "execute_result"
    }
   ],
   "source": [
    "n = 6\n",
    "cities =    [50 200;\n",
    "            100 100;\n",
    "            100 300;\n",
    "            500 100;\n",
    "            500 300;\n",
    "            550 200]\n",
    "tour = solveTSP(cities)\n",
    "\n",
    "#plot_solution(cities', tour)"
   ]
  },
  {
   "cell_type": "markdown",
   "metadata": {},
   "source": [
    "#### A more complicated example: TSP in the US\n",
    "What's the quickest tour around the 48 US state capitals in the mainland US?"
   ]
  },
  {
   "cell_type": "code",
   "execution_count": 35,
   "metadata": {
    "scrolled": true
   },
   "outputs": [
    {
     "name": "stdout",
     "output_type": "stream",
     "text": [
      "Set parameter TokenServer to value \"flexlm\"\n",
      "Set parameter TimeLimit to value 30\n",
      "Set parameter TimeLimit to value 30\n",
      "Set parameter LazyConstraints to value 1\n",
      "Gurobi Optimizer version 9.5.0 build v9.5.0rc5 (linux64)\n",
      "Thread count: 48 physical cores, 96 logical processors, using up to 32 threads\n",
      "Optimize a model with 2400 rows, 2304 columns and 6864 nonzeros\n",
      "Model fingerprint: 0xc697e34d\n",
      "Variable types: 0 continuous, 2304 integer (2304 binary)\n",
      "Coefficient statistics:\n",
      "  Matrix range     [1e+00, 1e+00]\n",
      "  Objective range  [1e+02, 8e+03]\n",
      "  Bounds range     [0e+00, 0e+00]\n",
      "  RHS range        [2e+00, 2e+00]\n",
      "Presolve removed 2352 rows and 1176 columns\n",
      "Presolve time: 0.00s\n",
      "Presolved: 48 rows, 1128 columns, 2256 nonzeros\n",
      "Variable types: 0 continuous, 1128 integer (1128 binary)\n",
      "\n",
      "Root relaxation: objective 6.333851e+04, 78 iterations, 0.00 seconds (0.00 work units)\n",
      "\n",
      "    Nodes    |    Current Node    |     Objective Bounds      |     Work\n",
      " Expl Unexpl |  Obj  Depth IntInf | Incumbent    BestBd   Gap | It/Node Time\n",
      "\n",
      "     0     0 63338.5149    0   14          - 63338.5149      -     -    0s\n",
      "H    0     0                    75451.043760 63338.5149  16.1%     -    0s\n",
      "H    0     0                    75399.577115 63338.5149  16.0%     -    0s\n",
      "     0     0 64641.6215    0    6 75399.5771 64641.6215  14.3%     -    0s\n",
      "     0     0 65133.1956    0   12 75399.5771 65133.1956  13.6%     -    0s\n",
      "     0     0 65472.9195    0   13 75399.5771 65472.9195  13.2%     -    0s\n",
      "     0     0 66807.1344    0   10 75399.5771 66807.1344  11.4%     -    0s\n",
      "H    0     0                    73613.524473 66807.1344  9.25%     -    0s\n",
      "     0     0 66849.6523    0   14 73613.5245 66849.6523  9.19%     -    0s\n",
      "     0     0 66849.6523    0   14 73613.5245 66849.6523  9.19%     -    0s\n",
      "     0     0 66849.6523    0   10 73613.5245 66849.6523  9.19%     -    0s\n",
      "     0     0 66899.0515    0   18 73613.5245 66899.0515  9.12%     -    0s\n",
      "H    0     0                    69831.516009 66899.0515  4.20%     -    0s\n",
      "H    0     0                    67413.691982 66899.0515  0.76%     -    0s\n",
      "     0     0 66939.3648    0   10 67413.6920 66939.3648  0.70%     -    0s\n",
      "     0     0 66939.3648    0   17 67413.6920 66939.3648  0.70%     -    0s\n",
      "H    0     0                    67047.417015 66939.3648  0.16%     -    0s\n",
      "\n",
      "Cutting planes:\n",
      "  MIR: 1\n",
      "  Zero half: 3\n",
      "\n",
      "Explored 1 nodes (309 simplex iterations) in 0.31 seconds (0.07 work units)\n",
      "Thread count was 32 (of 96 available processors)\n",
      "\n",
      "Solution count 6: 67047.4 67413.7 69831.5 ... 75451\n",
      "\n",
      "Optimal solution found (tolerance 1.00e-04)\n",
      "Best objective 6.704741701487e+04, best bound 6.704741701487e+04, gap 0.0000%\n",
      "\n",
      "User-callback calls 314, time in user-callback 0.17 sec\n"
     ]
    }
   ],
   "source": [
    "# Source: https://people.sc.fsu.edu/~jburkardt/datasets/tsp/att48.tsp\n",
    "n=48\n",
    "citiesdata=[6734 1453;2233 10;5530 1424;401 841;3082 1644;7608 4458;7573 3716;7265 1268;6898 1885;1112 2049;5468 2606;\n",
    "    5989 2873;4706 2674;4612 2035;6347 2683;6107 669;7611 5184;7462 3590;7732 4723;5900 3561;4483 3369;6101 1110;5199 2182;\n",
    "    1633 2809;4307 2322;675 1006;7555 4819;7541 3981;3177 756;7352 4506;7545 2801;3245 3305;6426 3173;4608 1198;23 2216;\n",
    "    7248 3779;7762 4595;7392 2244;3484 2829;6271 2135;4985 140;1916 1569;7280 4899;7509 3239;10 2676;6807 2993;5185 3258;3023 1942]\n",
    "tour = solveTSP(citiesdata);\n",
    "# plot_solution(citiesdata', tour)"
   ]
  },
  {
   "cell_type": "markdown",
   "metadata": {},
   "source": [
    "#### A larger-scale TSP: Routing a Vehicle\n",
    "Let's try to solve a TSP with 200 cities using the above code."
   ]
  },
  {
   "cell_type": "code",
   "execution_count": 36,
   "metadata": {
    "scrolled": true
   },
   "outputs": [
    {
     "name": "stdout",
     "output_type": "stream",
     "text": [
      "Set parameter TokenServer to value \"flexlm\"\n",
      "Set parameter TimeLimit to value 120\n",
      "Set parameter TimeLimit to value 120\n",
      "Set parameter LazyConstraints to value 1\n",
      "Gurobi Optimizer version 9.5.0 build v9.5.0rc5 (linux64)\n",
      "Thread count: 48 physical cores, 96 logical processors, using up to 32 threads\n",
      "Optimize a model with 40400 rows, 40000 columns and 119800 nonzeros\n",
      "Model fingerprint: 0x2cfe5ede\n",
      "Variable types: 0 continuous, 40000 integer (40000 binary)\n",
      "Coefficient statistics:\n",
      "  Matrix range     [1e+00, 1e+00]\n",
      "  Objective range  [1e+00, 2e+02]\n",
      "  Bounds range     [0e+00, 0e+00]\n",
      "  RHS range        [2e+00, 2e+00]\n",
      "Presolve removed 40200 rows and 20100 columns\n",
      "Presolve time: 0.04s\n",
      "Presolved: 200 rows, 19900 columns, 39800 nonzeros\n",
      "Variable types: 0 continuous, 19900 integer (19900 binary)\n",
      "\n",
      "Root relaxation: objective 1.619982e+03, 281 iterations, 0.01 seconds (0.00 work units)\n",
      "\n",
      "    Nodes    |    Current Node    |     Objective Bounds      |     Work\n",
      " Expl Unexpl |  Obj  Depth IntInf | Incumbent    BestBd   Gap | It/Node Time\n",
      "\n",
      "     0     0 1619.98221    0   24          - 1619.98221      -     -    0s\n",
      "     0     0 1644.98988    0   37          - 1644.98988      -     -    1s\n",
      "     0     0 1647.49528    0   59          - 1647.49528      -     -    1s\n",
      "     0     0 1649.16532    0    6          - 1649.16532      -     -    1s\n",
      "     0     0 1649.16532    0    6          - 1649.16532      -     -    1s\n",
      "     0     2 1649.16532    0    6          - 1649.16532      -     -    1s\n",
      "    31    64 1677.95395    5   26          - 1676.46135      -  12.4    5s\n",
      "    95   128 1692.03883    6   14          - 1678.76686      -  13.6   11s\n",
      "   159   192 1700.30701    7    8          - 1691.68859      -  19.6   22s\n",
      "   191   253 1700.30701    8    6          - 1692.03883      -  20.6   27s\n",
      "   252   310 1703.15592    9    6          - 1692.03883      -  17.8   38s\n",
      "   309   368 1700.92951   10   16          - 1692.03883      -  15.4   46s\n",
      "   367   400 1700.98772   11   12          - 1692.03883      -  14.3   54s\n",
      "   370   400 1719.20875   12    8          - 1692.03883      -  14.2   55s\n",
      "   392   400 1724.71078    8   24          - 1692.03883      -  13.9   60s\n",
      "   456   527 1703.60298   13    6          - 1692.03883      -  13.0   72s\n",
      "   526   581 1705.96270   14   15          - 1692.03883      -  12.2   85s\n",
      "   568   581 1722.49980   12   25          - 1692.03883      -  11.7   92s\n",
      "   582   630 1713.16866   16    6          - 1692.03883      -  11.5   95s\n",
      "   611   630 1736.58883   11   22          - 1692.03883      -  11.3  100s\n",
      "   670   714 1704.63399   16   22          - 1692.03883      -  10.9  109s\n",
      "   713   744 1706.69201   16   12          - 1692.03883      -  10.4  117s\n",
      "*  716   744              17    1723.3132254 1692.03883  1.81%  10.4  117s\n",
      "\n",
      "Cutting planes:\n",
      "  Zero half: 21\n",
      "  Lazy constraints: 689\n",
      "\n",
      "Explored 745 nodes (7969 simplex iterations) in 121.39 seconds (2.00 work units)\n",
      "Thread count was 32 (of 96 available processors)\n",
      "\n",
      "Solution count 1: 1723.31 \n",
      "\n",
      "Time limit reached\n",
      "Best objective 1.723313225417e+03, best bound 1.692038832216e+03, gap 1.8148%\n",
      "\n",
      "User-callback calls 2143, time in user-callback 114.00 sec\n"
     ]
    },
    {
     "data": {
      "text/plain": [
       "201-element Vector{Int64}:\n",
       "  1\n",
       " 14\n",
       " 13\n",
       " 12\n",
       " 35\n",
       " 34\n",
       " 33\n",
       " 32\n",
       " 31\n",
       " 52\n",
       " 50\n",
       " 49\n",
       " 11\n",
       "  ⋮\n",
       " 17\n",
       " 45\n",
       " 44\n",
       " 56\n",
       " 58\n",
       " 55\n",
       " 43\n",
       " 42\n",
       " 53\n",
       " 41\n",
       " 40\n",
       "  1"
      ]
     },
     "execution_count": 36,
     "metadata": {},
     "output_type": "execute_result"
    }
   ],
   "source": [
    "ludata=readdlm(\"bcl380tsp.txt\")\n",
    "n = 200 #38\n",
    "ludata = ludata[1:n, 2:3] #drop index\n",
    "tour_mip = solveTSP(ludata, time_limit=120.)"
   ]
  },
  {
   "cell_type": "markdown",
   "metadata": {},
   "source": [
    "Let's test our new solver!\n",
    "Notice that the solution reached is provably optimal (up to solver tolerances)!\n",
    "This also verifies that the heuristic solution obtained earlier is indeed of high-quality."
   ]
  },
  {
   "cell_type": "markdown",
   "metadata": {},
   "source": [
    "# Credit + References"
   ]
  },
  {
   "cell_type": "markdown",
   "metadata": {},
   "source": [
    "This material is adapted from previous versions of this course, which have been designed by numerous ORC students.\n",
    "\n",
    "Some of the sources used to create this year's version include:\n",
    " - JuMP documentation\n",
    " - Gurobi documentation\n",
    " - https://orinanobworld.blogspot.com/2012/08/user-cuts-versus-lazy-constraints.html"
   ]
  }
 ],
 "metadata": {
  "kernelspec": {
   "display_name": "Julia 1.6.1",
   "language": "julia",
   "name": "julia-1.6"
  },
  "language_info": {
   "file_extension": ".jl",
   "mimetype": "application/julia",
   "name": "julia",
   "version": "1.6.1"
  },
  "latex_envs": {
   "LaTeX_envs_menu_present": true,
   "autoclose": false,
   "autocomplete": true,
   "bibliofile": "biblio.bib",
   "cite_by": "apalike",
   "current_citInitial": 1,
   "eqLabelWithNumbers": true,
   "eqNumInitial": 1,
   "hotkeys": {
    "equation": "Ctrl-E",
    "itemize": "Ctrl-I"
   },
   "labels_anchors": false,
   "latex_user_defs": false,
   "report_style_numbering": false,
   "user_envs_cfg": false
  },
  "toc": {
   "base_numbering": 1,
   "nav_menu": {},
   "number_sections": true,
   "sideBar": true,
   "skip_h1_title": false,
   "title_cell": "Table of Contents",
   "title_sidebar": "Contents",
   "toc_cell": false,
   "toc_position": {},
   "toc_section_display": true,
   "toc_window_display": false
  },
  "varInspector": {
   "cols": {
    "lenName": 16,
    "lenType": 16,
    "lenVar": 40
   },
   "kernels_config": {
    "python": {
     "delete_cmd_postfix": "",
     "delete_cmd_prefix": "del ",
     "library": "var_list.py",
     "varRefreshCmd": "print(var_dic_list())"
    },
    "r": {
     "delete_cmd_postfix": ") ",
     "delete_cmd_prefix": "rm(",
     "library": "var_list.r",
     "varRefreshCmd": "cat(var_dic_list()) "
    }
   },
   "types_to_exclude": [
    "module",
    "function",
    "builtin_function_or_method",
    "instance",
    "_Feature"
   ],
   "window_display": false
  }
 },
 "nbformat": 4,
 "nbformat_minor": 4
}
